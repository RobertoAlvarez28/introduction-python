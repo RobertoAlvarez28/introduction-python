{
  "nbformat": 4,
  "nbformat_minor": 0,
  "metadata": {
    "colab": {
      "name": "Untitled1.ipynb",
      "provenance": [],
      "authorship_tag": "ABX9TyN0Ag2/ctLQ6lRP1/irRuKP",
      "include_colab_link": true
    },
    "kernelspec": {
      "name": "python3",
      "display_name": "Python 3"
    },
    "language_info": {
      "name": "python"
    }
  },
  "cells": [
    {
      "cell_type": "markdown",
      "metadata": {
        "id": "view-in-github",
        "colab_type": "text"
      },
      "source": [
        "<a href=\"https://colab.research.google.com/github/RobertoAlvarez28/introduction-python/blob/main/Untitled1.ipynb\" target=\"_parent\"><img src=\"https://colab.research.google.com/assets/colab-badge.svg\" alt=\"Open In Colab\"/></a>"
      ]
    },
    {
      "cell_type": "code",
      "metadata": {
        "id": "RCPNWirr_cN0"
      },
      "source": [
        ""
      ],
      "execution_count": null,
      "outputs": []
    },
    {
      "cell_type": "markdown",
      "metadata": {
        "id": "BYeL4SvcA9Eq"
      },
      "source": [
        "Introduction to Python \n",
        "\n",
        "The programming language Python was conceived in the late 1980s, and its implementation was started in December 1989 by Guido van Rossum at CWI in the Netherlands as a successor to ABC capable of exception handling and interfacing with the Amoeba operating system. Van Rossum is Python's principal author, and his continuing central role in deciding the direction of Python is reflected in the title given to him by the Python community, Benevolent Dictator for Life (BDFL). (However, van Rossum stepped down as leader on July 12, 2018.). Python was named after the BBC TV show Monty Python's Flying Circus.\n",
        "\n",
        "Python 2.0 was released on October 16, 2000, with many major new features, including a cycle-detecting garbage collector (in addition to reference counting) for memory management and support for Unicode. However, the most important change was to the development process itself, with a shift to a more transparent and community-backed process.\n",
        "\n",
        "Python 3.0, a major, backwards-incompatible release, was released on December 3, 2008 after a long period of testing. Many of its major features have also been backported to the backwards-compatible, while by now unsupported, Python 2.6 and 2.7.\n",
        "\n",
        "\n",
        "If-else\n",
        "Executes a statement if a specific condition is evaluated as true. If the condition is evaluated as false, another sentence can be executed.\n",
        "\n",
        "if (condición) sentencia1 [else sentencia2]\n",
        "condition\n",
        "An expression that can be evaluated as true or false.\n",
        "judgment1\n",
        "A statement that will be executed if condition is evaluated as true. It can be any sentence, including other nested sentences. To execute multiple statements, use a block ({ ... }) statement to group them.\n",
        "judgment2\n",
        "A statement that will be executed if condition is evaluated as false, and there is a clause else. It can be any statement, including block statements and other nested if statements.\n",
        "\n",
        "Loop\n",
        "A loop or cycle, in programming, is a sequence of code instructions that is executed repeatedly, until the condition assigned to that loop is no longer met. The three most commonly used loops in programming are the while loop, the for loop, and the do-while loop.\n",
        "\n",
        "int var=0;\n",
        "\n",
        "//código que puede ser sustituido por un bucle\n",
        "var = var + 2; //var igual a 2 (puede ser sustituido por var+=2)\n",
        "var = var + 2; //var igual a \n",
        "var = var + 2; //var igual a 6\n",
        "var = var + 2; //var igual a 8\n",
        "var = var + 2; //var igual a 10\n",
        "// fin de código  que puede ser sustituido por un bucle\n",
        "\n",
        "printf(\"el resultado es %i\", var );\n",
        "\n"
      ]
    },
    {
      "cell_type": "markdown",
      "metadata": {
        "id": "xedyO-LNA_UG"
      },
      "source": [
        ""
      ]
    }
  ]
}